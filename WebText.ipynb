{
 "cells": [
  {
   "cell_type": "markdown",
   "id": "5fb3a0f4",
   "metadata": {},
   "source": [
    "# Train BERT on WebText"
   ]
  },
  {
   "cell_type": "markdown",
   "id": "0e623a4e",
   "metadata": {},
   "source": [
    "### Some Flags"
   ]
  },
  {
   "cell_type": "code",
   "execution_count": 1,
   "id": "ac69c258",
   "metadata": {},
   "outputs": [],
   "source": [
    "LOAD_DATASET = False\n",
    "CHUNK_DATA = False\n",
    "TRAIN_TOKENIZER = False\n",
    "HUGGINGFACE_TOKENIZER = True"
   ]
  },
  {
   "cell_type": "markdown",
   "id": "cb8457d3",
   "metadata": {},
   "source": [
    "### Load OpenWebText dataset"
   ]
  },
  {
   "cell_type": "code",
   "execution_count": 2,
   "id": "46fe2607",
   "metadata": {},
   "outputs": [],
   "source": [
    "from datasets import load_dataset\n",
    "\n",
    "if LOAD_DATASET:\n",
    "    dataset = load_dataset('openwebtext', split='train')"
   ]
  },
  {
   "cell_type": "markdown",
   "id": "6e075978",
   "metadata": {},
   "source": [
    "### Save the data to files"
   ]
  },
  {
   "cell_type": "code",
   "execution_count": 3,
   "id": "ee50dfe8",
   "metadata": {},
   "outputs": [],
   "source": [
    "from pathlib import Path\n",
    "import numpy as np\n",
    "\n",
    "datadir = Path('splited_data')\n",
    "datadir.mkdir(exist_ok=True)\n",
    "file_name = str(datadir / 'text_{}.txt')"
   ]
  },
  {
   "cell_type": "code",
   "execution_count": 5,
   "id": "88e791eb",
   "metadata": {},
   "outputs": [],
   "source": [
    "def chunker(seq, size):\n",
    "    return (seq[pos:pos + size] for pos in range(0, len(seq), size))\n",
    "\n",
    "if CHUNK_DATA:\n",
    "    chunk_size = 10_000\n",
    "    digits = np.ceil(np.log10(int(len(dataset) / chunk_size))).astype(int) + 2\n",
    "\n",
    "    for i, sample in enumerate(chunker(dataset, chunk_size)):\n",
    "        print(f'\\r{i}/{int(len(dataset) / chunk_size)}', end='')\n",
    "        sample = [x.replace('\\n', '') for x in sample['text']]\n",
    "        with open(file_name.format(str(i).zfill(digits)), 'w', encoding='utf-8') as fp:\n",
    "            fp.write('\\n'.join(sample))"
   ]
  },
  {
   "cell_type": "markdown",
   "id": "4a143fea",
   "metadata": {},
   "source": [
    "### Tokenizer"
   ]
  },
  {
   "cell_type": "markdown",
   "id": "0e3721b0",
   "metadata": {},
   "source": [
    "Train tokenizer:"
   ]
  },
  {
   "cell_type": "code",
   "execution_count": 6,
   "id": "9112363c",
   "metadata": {},
   "outputs": [],
   "source": [
    "# !pip install tokenizers\n",
    "from tokenizers import BertWordPieceTokenizer\n",
    "\n",
    "# initialize\n",
    "tokenizer = BertWordPieceTokenizer(clean_text=True, handle_chinese_chars=False, strip_accents=False, lowercase=True)\n",
    "\n",
    "# and train\n",
    "paths = [str(x) for x in datadir.glob('**/*.txt')]\n",
    "vocab_size=30_000"
   ]
  },
  {
   "cell_type": "code",
   "execution_count": 7,
   "id": "0b6eeff3",
   "metadata": {},
   "outputs": [],
   "source": [
    "if TRAIN_TOKENIZER:\n",
    "    tokenizer.train(files=paths, vocab_size=vocab_size, min_frequency=2, limit_alphabet=1000, wordpieces_prefix='##', \n",
    "                    special_tokens=['[PAD]', '[UNK]', '[CLS]', '[SEP]', '[MASK]'], show_progress=True)\n",
    "\n",
    "    tokenizer_dir = Path('tokenizer')\n",
    "    tokenizer_dir.mkdir(exist_ok=True)\n",
    "\n",
    "    tokenizer.save_model(str(tokenizer_dir))"
   ]
  },
  {
   "cell_type": "markdown",
   "id": "1299e5e4",
   "metadata": {},
   "source": [
    "Load tokenizer:"
   ]
  },
  {
   "cell_type": "code",
   "execution_count": 8,
   "id": "99f9b91f",
   "metadata": {},
   "outputs": [],
   "source": [
    "from transformers import BertTokenizer\n",
    "\n",
    "\n",
    "if HUGGINGFACE_TOKENIZER:\n",
    "    tokenizer = BertTokenizer.from_pretrained('bert-base-uncased')\n",
    "elif not TRAIN_TOKENIZER:\n",
    "    tokenizer = BertTokenizer.from_pretrained(str(tokenizer_dir))"
   ]
  },
  {
   "cell_type": "markdown",
   "id": "e72c842c",
   "metadata": {},
   "source": [
    "### Preprocess"
   ]
  },
  {
   "cell_type": "markdown",
   "id": "361c9612",
   "metadata": {},
   "source": [
    "Tokenize one file"
   ]
  },
  {
   "cell_type": "code",
   "execution_count": 9,
   "id": "b5898a55",
   "metadata": {},
   "outputs": [],
   "source": [
    "with open(str(list(datadir.glob('**/*.txt'))[1]), 'r', encoding='utf-8') as fp:\n",
    "    lines = fp.read().split('\\n')"
   ]
  },
  {
   "cell_type": "code",
   "execution_count": 10,
   "id": "4dc6b2c7",
   "metadata": {},
   "outputs": [
    {
     "name": "stdout",
     "output_type": "stream",
     "text": [
      "10000\n",
      "10000\n",
      "10000\n"
     ]
    }
   ],
   "source": [
    "batch = tokenizer(lines, max_length=512, padding='max_length', truncation=True)\n",
    "\n",
    "print(len(batch['input_ids']))\n",
    "print(len(batch['token_type_ids']))\n",
    "print(len(batch['attention_mask']))"
   ]
  },
  {
   "cell_type": "code",
   "execution_count": 11,
   "id": "87f96de9",
   "metadata": {},
   "outputs": [],
   "source": [
    "import torch\n",
    "\n",
    "labels = torch.tensor([x for x in batch['input_ids']])\n",
    "mask = torch.tensor([x for x in batch['attention_mask']])"
   ]
  },
  {
   "cell_type": "code",
   "execution_count": 12,
   "id": "2d52ae68",
   "metadata": {},
   "outputs": [
    {
     "name": "stdout",
     "output_type": "stream",
     "text": [
      "PAD : 0\n",
      "CLS : 101\n",
      "SEP : 102\n",
      "MASK : 103\n"
     ]
    }
   ],
   "source": [
    "PAD = tokenizer.pad_token_id\n",
    "CLS = tokenizer.cls_token_id\n",
    "SEP = tokenizer.sep_token_id\n",
    "MASK = tokenizer.mask_token_id\n",
    "\n",
    "special_chars = {'PAD': PAD, 'CLS': CLS, 'SEP': SEP, 'MASK': MASK}\n",
    "for k, val in special_chars.items():\n",
    "    print(k, ':', val)"
   ]
  },
  {
   "cell_type": "code",
   "execution_count": 13,
   "id": "9cc07cd1",
   "metadata": {},
   "outputs": [],
   "source": [
    "mask_percent = 0.15\n",
    "\n",
    "# make copy of labels tensor, this will be input_ids\n",
    "input_ids = labels.detach().clone()\n",
    "\n",
    "# create random array of floats with equal dims to input_ids\n",
    "rand = torch.rand(input_ids.shape)\n",
    "\n",
    "# mask random 15% where token is not 0 [PAD], 1 [CLS], or 2 [SEP]\n",
    "mask_arr = (rand < mask_percent) * (input_ids != 0) * (input_ids != 1) * (input_ids != 2)\n",
    "\n",
    "for mask_arr_i, input_ids_i, mask_i in zip(mask_arr, input_ids, mask):\n",
    "    input_ids_i[mask_arr_i] = MASK\n",
    "#     mask_i[mask_arr_i] = 0"
   ]
  },
  {
   "cell_type": "code",
   "execution_count": 14,
   "id": "befa0648",
   "metadata": {},
   "outputs": [],
   "source": [
    "encodings = {'input_ids': input_ids, 'attention_mask': mask, 'labels': labels}"
   ]
  },
  {
   "cell_type": "code",
   "execution_count": 15,
   "id": "a0863487",
   "metadata": {},
   "outputs": [],
   "source": [
    "class Dataset(torch.utils.data.Dataset):\n",
    "    def __init__(self, encodings):\n",
    "        self.encodings = encodings\n",
    "\n",
    "    def __len__(self):\n",
    "        return self.encodings['input_ids'].shape[0]\n",
    "\n",
    "    def __getitem__(self, i):\n",
    "        return {key: tensor[i] for key, tensor in self.encodings.items()}"
   ]
  },
  {
   "cell_type": "code",
   "execution_count": 16,
   "id": "f23e7aa9",
   "metadata": {},
   "outputs": [],
   "source": [
    "dataset = Dataset(encodings)\n",
    "loader = torch.utils.data.DataLoader(dataset, batch_size=16, shuffle=True)"
   ]
  },
  {
   "cell_type": "markdown",
   "id": "72343862",
   "metadata": {},
   "source": [
    "### Prepare BERT"
   ]
  },
  {
   "cell_type": "code",
   "execution_count": 17,
   "id": "7f19aa4c",
   "metadata": {},
   "outputs": [],
   "source": [
    "from transformers import BertConfig, BertForMaskedLM, AdamW\n",
    "\n",
    "bert_config = BertConfig(vocab_size=len(tokenizer.vocab), \n",
    "                         hidden_size=768, \n",
    "                         num_hidden_layers=12,\n",
    "                         num_attention_heads=12,\n",
    "                         intermediate_size=3072,\n",
    "                         hidden_dropout_prob=0.1,\n",
    "                         attention_probs_dropout_prob=0.1,\n",
    "                         max_position_embeddings=512,\n",
    "                         type_vocab_size=2,\n",
    "                         pad_token_id=PAD,\n",
    "                         position_embedding_type='absolute',\n",
    "                         use_cache=True)"
   ]
  },
  {
   "cell_type": "code",
   "execution_count": 18,
   "id": "f629f5ce",
   "metadata": {},
   "outputs": [],
   "source": [
    "bert = BertForMaskedLM(bert_config)\n",
    "\n",
    "device = torch.device('cuda') if torch.cuda.is_available() else torch.device('cpu')\n",
    "bert.to(device)\n",
    "bert.train()\n",
    "\n",
    "optim = AdamW(bert.parameters(), lr=1e-4)"
   ]
  },
  {
   "cell_type": "markdown",
   "id": "56928206",
   "metadata": {},
   "source": [
    "### Train"
   ]
  },
  {
   "cell_type": "code",
   "execution_count": null,
   "id": "8438aece",
   "metadata": {},
   "outputs": [
    {
     "name": "stderr",
     "output_type": "stream",
     "text": [
      "Epoch 0:   8%|█▌                  | 49/625 [21:43<3:57:22, 24.73s/it, loss=4.32]"
     ]
    }
   ],
   "source": [
    "from tqdm import tqdm\n",
    "\n",
    "epochs = 2\n",
    "\n",
    "for epoch in range(epochs):\n",
    "    loop = tqdm(loader, leave=True)\n",
    "    for batch in loop:\n",
    "        # initialize calculated gradients (from prev step)\n",
    "        optim.zero_grad()\n",
    "        \n",
    "        # pull all tensor batches required for training\n",
    "        input_ids = batch['input_ids'].to(device)\n",
    "        attention_mask = batch['attention_mask'].to(device)\n",
    "        labels = batch['labels'].to(device)\n",
    "        \n",
    "        # process\n",
    "        outputs = bert(input_ids, attention_mask=attention_mask, labels=labels)\n",
    "\n",
    "        loss = outputs.loss\n",
    "        loss.backward()\n",
    "        optim.step()\n",
    "        \n",
    "        # print relevant info to progress bar\n",
    "        loop.set_description(f'Epoch {epoch}')\n",
    "        loop.set_postfix(loss=loss.item())"
   ]
  },
  {
   "cell_type": "code",
   "execution_count": null,
   "id": "08d3e78d",
   "metadata": {},
   "outputs": [],
   "source": []
  }
 ],
 "metadata": {
  "kernelspec": {
   "display_name": "Python 3 (ipykernel)",
   "language": "python",
   "name": "python3"
  },
  "language_info": {
   "codemirror_mode": {
    "name": "ipython",
    "version": 3
   },
   "file_extension": ".py",
   "mimetype": "text/x-python",
   "name": "python",
   "nbconvert_exporter": "python",
   "pygments_lexer": "ipython3",
   "version": "3.8.10"
  }
 },
 "nbformat": 4,
 "nbformat_minor": 5
}
